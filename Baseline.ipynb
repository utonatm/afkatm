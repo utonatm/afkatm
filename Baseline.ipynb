{
 "cells": [
  {
   "cell_type": "code",
   "execution_count": 1,
   "metadata": {},
   "outputs": [],
   "source": [
    "import pandas as pd\n",
    "import datetime\n",
    "\n",
    "import warnings\n",
    "warnings.filterwarnings('ignore')"
   ]
  },
  {
   "cell_type": "markdown",
   "metadata": {},
   "source": [
    "## Prepare data"
   ]
  },
  {
   "cell_type": "code",
   "execution_count": 2,
   "metadata": {},
   "outputs": [],
   "source": [
    "df = pd.read_csv('data_clean.csv')\n",
    "df['date'] = df['date'].astype('datetime64[ns]')\n",
    "\n",
    "atms = list(df.atm_name.unique())"
   ]
  },
  {
   "cell_type": "code",
   "execution_count": 3,
   "metadata": {},
   "outputs": [],
   "source": [
    "threshold = datetime.datetime.strptime('2016-12-09', '%Y-%m-%d')\n",
    "\n",
    "train = df[df['date'] <= threshold]\n",
    "test = df[df['date'] > threshold]"
   ]
  },
  {
   "cell_type": "code",
   "execution_count": 4,
   "metadata": {},
   "outputs": [
    {
     "data": {
      "text/plain": [
       "286356.4964370119"
      ]
     },
     "execution_count": 4,
     "metadata": {},
     "output_type": "execute_result"
    }
   ],
   "source": [
    "test['amount_total'].std()"
   ]
  },
  {
   "cell_type": "markdown",
   "metadata": {},
   "source": [
    "## All days mean per ATM"
   ]
  },
  {
   "cell_type": "code",
   "execution_count": 5,
   "metadata": {},
   "outputs": [],
   "source": [
    "def get_mean(day, month, atm):\n",
    "    return train[\n",
    "        (train['atm_name'] == atm)&\\\n",
    "        (train['date'].dt.day == day)&\\\n",
    "        (train['date'].dt.month == month)\n",
    "    ].amount_total.mean()"
   ]
  },
  {
   "cell_type": "code",
   "execution_count": 6,
   "metadata": {},
   "outputs": [],
   "source": [
    "test['predict'] = test.apply(lambda row: get_mean(row.date.day, row.date.month, row['atm_name']), axis=1)"
   ]
  },
  {
   "cell_type": "code",
   "execution_count": 7,
   "metadata": {},
   "outputs": [
    {
     "data": {
      "text/plain": [
       "221132.3022300397"
      ]
     },
     "execution_count": 7,
     "metadata": {},
     "output_type": "execute_result"
    }
   ],
   "source": [
    "# RMSE\n",
    "(((test['amount_total'] - test['predict']) ** 2) ** 0.5).mean()"
   ]
  },
  {
   "cell_type": "markdown",
   "metadata": {},
   "source": [
    "## Mean over last 9 weeks per atm"
   ]
  },
  {
   "cell_type": "code",
   "execution_count": 8,
   "metadata": {},
   "outputs": [],
   "source": [
    "def get_mean_nweeks(day, atm, weeks):\n",
    "    return df[\n",
    "        (df['date'] >= day - datetime.timedelta(days=weeks * 7))&\n",
    "        (df['date'] < day)&\n",
    "        (df['date'].dt.weekday == day.weekday())&\n",
    "        (df['atm_name'] == atm)\n",
    "    ].amount_total.mean()"
   ]
  },
  {
   "cell_type": "code",
   "execution_count": 9,
   "metadata": {},
   "outputs": [
    {
     "data": {
      "text/plain": [
       "189043.86643743914"
      ]
     },
     "execution_count": 9,
     "metadata": {},
     "output_type": "execute_result"
    }
   ],
   "source": [
    "test['predict'] = test.apply(lambda row: get_mean_nweeks(row['date'], row['atm_name'], 13), axis=1)\n",
    "\n",
    "# RMSE\n",
    "(((test['amount_total'] - test['predict']) ** 2) ** 0.5).mean()"
   ]
  },
  {
   "cell_type": "code",
   "execution_count": 10,
   "metadata": {},
   "outputs": [],
   "source": [
    "dist = []\n",
    "for week in range(1,52):\n",
    "    test['predict'] = test.apply(lambda row: get_mean_nweeks(row['date'], row['atm_name'], week), axis=1)\n",
    "    \n",
    "    dist.append({'weeks': week,\n",
    "     'RMSE': (((test['amount_total'] - test['predict']) ** 2) ** 0.5).mean()\n",
    "    })"
   ]
  },
  {
   "cell_type": "code",
   "execution_count": 176,
   "metadata": {},
   "outputs": [
    {
     "data": {
      "text/plain": [
       "<matplotlib.axes._subplots.AxesSubplot at 0x7fe63e644278>"
      ]
     },
     "execution_count": 176,
     "metadata": {},
     "output_type": "execute_result"
    },
    {
     "data": {
      "image/png": "[encoded data removed]",
      "text/plain": [
       "<Figure size 432x288 with 1 Axes>"
      ]
     },
     "metadata": {
      "needs_background": "light"
     },
     "output_type": "display_data"
    }
   ],
   "source": [
    "pd.DataFrame(dist).set_index('weeks').plot()"
   ]
  },
  {
   "cell_type": "markdown",
   "metadata": {},
   "source": [
    "## Prophet"
   ]
  },
  {
   "cell_type": "code",
   "execution_count": 11,
   "metadata": {},
   "outputs": [],
   "source": [
    "from fbprophet import Prophet"
   ]
  },
  {
   "cell_type": "code",
   "execution_count": 41,
   "metadata": {},
   "outputs": [
    {
     "name": "stderr",
     "output_type": "stream",
     "text": [
      "INFO:fbprophet:Disabling daily seasonality. Run prophet with daily_seasonality=True to override this.\n",
      "INFO:fbprophet:Disabling daily seasonality. Run prophet with daily_seasonality=True to override this.\n",
      "INFO:fbprophet:Disabling daily seasonality. Run prophet with daily_seasonality=True to override this.\n",
      "INFO:fbprophet:Disabling daily seasonality. Run prophet with daily_seasonality=True to override this.\n",
      "INFO:fbprophet:Disabling daily seasonality. Run prophet with daily_seasonality=True to override this.\n"
     ]
    }
   ],
   "source": [
    "predicts = pd.DataFrame(None)\n",
    "\n",
    "for atm in atms:\n",
    "    m = Prophet()\n",
    "    \n",
    "    train_atm = train[train['atm_name'] == atm][['amount_total', 'date']]\n",
    "    train_atm.columns = ['y', 'ds']\n",
    "    m.fit(train_atm)\n",
    "            \n",
    "    future = m.make_future_dataframe(periods=365)\n",
    "    predict = m.predict(future)\n",
    "    predict = predict[['ds', 'yhat']]\n",
    "    predict['atm_name'] = atm\n",
    "    \n",
    "    predicts = predicts.append(predict.iloc[-365:])"
   ]
  },
  {
   "cell_type": "code",
   "execution_count": 49,
   "metadata": {},
   "outputs": [],
   "source": [
    "test = test.set_index(['date', 'atm_name']).join(predicts)"
   ]
  },
  {
   "cell_type": "code",
   "execution_count": 50,
   "metadata": {},
   "outputs": [
    {
     "data": {
      "text/plain": [
       "227472.40299344595"
      ]
     },
     "execution_count": 50,
     "metadata": {},
     "output_type": "execute_result"
    }
   ],
   "source": [
    "# RMSE\n",
    "(((test['amount_total'] - test['yhat']) ** 2) ** 0.5).mean()"
   ]
  },
  {
   "cell_type": "code",
   "execution_count": null,
   "metadata": {},
   "outputs": [],
   "source": []
  }
 ],
 "metadata": {
  "kernelspec": {
   "display_name": "Python 3",
   "language": "python",
   "name": "python3"
  },
  "language_info": {
   "codemirror_mode": {
    "name": "ipython",
    "version": 3
   },
   "file_extension": ".py",
   "mimetype": "text/x-python",
   "name": "python",
   "nbconvert_exporter": "python",
   "pygments_lexer": "ipython3",
   "version": "3.6.8"
  }
 },
 "nbformat": 4,
 "nbformat_minor": 2
}
