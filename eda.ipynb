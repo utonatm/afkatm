{
 "cells": [
  {
   "cell_type": "code",
   "execution_count": 415,
   "metadata": {},
   "outputs": [],
   "source": [
    "import pandas as pd\n",
    "import numpy as np\n",
    "import datetime as dt"
   ]
  },
  {
   "cell_type": "code",
   "execution_count": 416,
   "metadata": {},
   "outputs": [],
   "source": [
    "df = pd.read_csv('AggregatedData.csv')"
   ]
  },
  {
   "cell_type": "code",
   "execution_count": 417,
   "metadata": {},
   "outputs": [],
   "source": [
    "df = df.drop(columns='Holiday Sequence')"
   ]
  },
  {
   "cell_type": "code",
   "execution_count": 418,
   "metadata": {},
   "outputs": [
    {
     "data": {
      "text/plain": [
       "KK Nagar ATM          2371\n",
       "Christ College ATM    2355\n",
       "Big Street ATM        2354\n",
       "Mount Road ATM        2256\n",
       "Airport ATM           2253\n",
       "Name: ATM Name, dtype: int64"
      ]
     },
     "execution_count": 418,
     "metadata": {},
     "output_type": "execute_result"
    }
   ],
   "source": [
    "df['ATM Name'].value_counts()"
   ]
  },
  {
   "cell_type": "code",
   "execution_count": 419,
   "metadata": {},
   "outputs": [],
   "source": [
    "def process_date(date):\n",
    "    if '/' in date:\n",
    "        return dt.datetime(day=int(date.split('/')[1]), month=int(date.split('/')[0]), year=int(date.split('/')[-1]))\n",
    "    if '-' in date:\n",
    "        return dt.datetime(day=int(date.split('-')[0]), month=int(date.split('-')[1]), year=int(date.split('-')[-1]))\n",
    "    return date"
   ]
  },
  {
   "cell_type": "code",
   "execution_count": 420,
   "metadata": {},
   "outputs": [],
   "source": [
    "df['Transaction Date'] = df['Transaction Date'].apply(process_date)"
   ]
  },
  {
   "cell_type": "code",
   "execution_count": 421,
   "metadata": {},
   "outputs": [
    {
     "data": {
      "text/plain": [
       "SUNDAY       2177\n",
       "SATURDAY     1131\n",
       "TUESDAY       989\n",
       "WEDNESDAY     947\n",
       "MONDAY        945\n",
       "THURSDAY      903\n",
       "FRIDAY        902\n",
       "Saturday      518\n",
       "Thursday      517\n",
       "Wednesday     515\n",
       "Monday        513\n",
       "Tuesday       513\n",
       "Friday        510\n",
       "Sunday        509\n",
       "Name: Weekday, dtype: int64"
      ]
     },
     "execution_count": 421,
     "metadata": {},
     "output_type": "execute_result"
    }
   ],
   "source": [
    "df['Weekday'].value_counts()"
   ]
  },
  {
   "cell_type": "code",
   "execution_count": 422,
   "metadata": {},
   "outputs": [
    {
     "data": {
      "text/plain": [
       "\"def process_weekday(day):\\n    day = day.lower()\\n    if day == 'monday':\\n        return 1\\n    if day == 'tuesday':\\n        return 2\\n    if day == 'wednesday':\\n        return 3\\n    if day == 'thursday':\\n        return 4\\n    if day == 'friday':\\n        return 5\\n    if day == 'saturday':\\n        return 6\\n    if day == 'sunday':\\n        return 7\\n    return np.nan\""
      ]
     },
     "execution_count": 422,
     "metadata": {},
     "output_type": "execute_result"
    }
   ],
   "source": [
    "'''def process_weekday(day):\n",
    "    day = day.lower()\n",
    "    if day == 'monday':\n",
    "        return 1\n",
    "    if day == 'tuesday':\n",
    "        return 2\n",
    "    if day == 'wednesday':\n",
    "        return 3\n",
    "    if day == 'thursday':\n",
    "        return 4\n",
    "    if day == 'friday':\n",
    "        return 5\n",
    "    if day == 'saturday':\n",
    "        return 6\n",
    "    if day == 'sunday':\n",
    "        return 7\n",
    "    return np.nan'''"
   ]
  },
  {
   "cell_type": "code",
   "execution_count": 423,
   "metadata": {},
   "outputs": [],
   "source": [
    "#df['Weekday'] = df['Weekday'].apply(process_weekday)"
   ]
  },
  {
   "cell_type": "code",
   "execution_count": 424,
   "metadata": {},
   "outputs": [],
   "source": [
    "#df['Location'] = df['ATM Name'].apply(lambda name: name.replace('ATM', '').strip())"
   ]
  },
  {
   "cell_type": "code",
   "execution_count": 425,
   "metadata": {},
   "outputs": [
    {
     "data": {
      "text/plain": [
       "NH    10727\n",
       "H       367\n",
       "N       198\n",
       "M       178\n",
       "C       119\n",
       "Name: Festival Religion, dtype: int64"
      ]
     },
     "execution_count": 425,
     "metadata": {},
     "output_type": "execute_result"
    }
   ],
   "source": [
    "df['Festival Religion'].value_counts()"
   ]
  },
  {
   "cell_type": "code",
   "execution_count": 426,
   "metadata": {},
   "outputs": [],
   "source": [
    "#df['Holiday Sequence'].value_counts()"
   ]
  },
  {
   "cell_type": "code",
   "execution_count": 427,
   "metadata": {},
   "outputs": [],
   "source": [
    "df['Working Day'] = (df['Working Day'] == 'W').astype('int')"
   ]
  },
  {
   "cell_type": "code",
   "execution_count": 428,
   "metadata": {},
   "outputs": [],
   "source": [
    "index = pd.DataFrame(index=pd.MultiIndex.from_product([\n",
    "    pd.date_range(start=df['Transaction Date'].min(), end=df['Transaction Date'].max(), freq='1d'),\n",
    "    set(df['ATM Name'])\n",
    "], names=['Transaction Date', 'ATM Name']))"
   ]
  },
  {
   "cell_type": "code",
   "execution_count": 429,
   "metadata": {},
   "outputs": [],
   "source": [
    "df = df.set_index(['Transaction Date', 'ATM Name']).join(index, how='right')"
   ]
  },
  {
   "cell_type": "code",
   "execution_count": 430,
   "metadata": {},
   "outputs": [],
   "source": [
    "#df.join(index, on='Transaction Date', how='right').sort_values('Transaction Date')"
   ]
  },
  {
   "cell_type": "code",
   "execution_count": 431,
   "metadata": {},
   "outputs": [
    {
     "data": {
      "text/plain": [
       "Index(['No Of Withdrawals', 'No Of XYZ Card Withdrawals',\n",
       "       'No Of Other Card Withdrawals', 'Total amount Withdrawn',\n",
       "       'Amount withdrawn XYZ Card', 'Amount withdrawn Other Card', 'Weekday',\n",
       "       'Festival Religion', 'Working Day'],\n",
       "      dtype='object')"
      ]
     },
     "execution_count": 431,
     "metadata": {},
     "output_type": "execute_result"
    }
   ],
   "source": [
    "df.columns"
   ]
  },
  {
   "cell_type": "code",
   "execution_count": 432,
   "metadata": {},
   "outputs": [],
   "source": [
    "df['Weekday'] = list(pd.to_datetime(df.index.get_level_values(0)).weekday + 1)"
   ]
  },
  {
   "cell_type": "code",
   "execution_count": 433,
   "metadata": {},
   "outputs": [
    {
     "name": "stderr",
     "output_type": "stream",
     "text": [
      "/Users/ivan/Documents/Applications/anaconda3/lib/python3.6/site-packages/ipykernel_launcher.py:2: SettingWithCopyWarning: \n",
      "A value is trying to be set on a copy of a slice from a DataFrame\n",
      "\n",
      "See the caveats in the documentation: http://pandas.pydata.org/pandas-docs/stable/indexing.html#indexing-view-versus-copy\n",
      "  \n",
      "/Users/ivan/Documents/Applications/anaconda3/lib/python3.6/site-packages/ipykernel_launcher.py:5: SettingWithCopyWarning: \n",
      "A value is trying to be set on a copy of a slice from a DataFrame\n",
      "\n",
      "See the caveats in the documentation: http://pandas.pydata.org/pandas-docs/stable/indexing.html#indexing-view-versus-copy\n",
      "  \"\"\"\n"
     ]
    }
   ],
   "source": [
    "for day in [6, 7]:\n",
    "    df['Working Day'][(df.isna().any(axis=1))&(df['Weekday'] == day)] = 0\n",
    "\n",
    "for day in [1, 2, 3, 4, 5]:\n",
    "    df['Working Day'][(df.isna().any(axis=1))&(df['Weekday'] == day)] = 1"
   ]
  },
  {
   "cell_type": "code",
   "execution_count": 434,
   "metadata": {},
   "outputs": [
    {
     "name": "stderr",
     "output_type": "stream",
     "text": [
      "/Users/ivan/Documents/Applications/anaconda3/lib/python3.6/site-packages/ipykernel_launcher.py:1: SettingWithCopyWarning: \n",
      "A value is trying to be set on a copy of a slice from a DataFrame\n",
      "\n",
      "See the caveats in the documentation: http://pandas.pydata.org/pandas-docs/stable/indexing.html#indexing-view-versus-copy\n",
      "  \"\"\"Entry point for launching an IPython kernel.\n"
     ]
    }
   ],
   "source": [
    "df['Festival Religion'][df.isna().any(axis=1)] = 'NH'"
   ]
  },
  {
   "cell_type": "code",
   "execution_count": 435,
   "metadata": {},
   "outputs": [],
   "source": [
    "for atm in set(df.index.get_level_values(1)):\n",
    "    df[df.index.get_level_values(1) == atm] = df[df.index.get_level_values(1) == atm].fillna(df[df.index.get_level_values(1) == atm].mean().to_dict())"
   ]
  },
  {
   "cell_type": "code",
   "execution_count": 441,
   "metadata": {},
   "outputs": [],
   "source": [
    "df.reset_index().rename(columns={\n",
    "    'Transaction Date': 'date',\n",
    "    'ATM Name': 'atm_name',\n",
    "    'No Of Withdrawals': 'withdrawals_total',\n",
    "    'No Of XYZ Card Withdrawals': 'withdrawals_xyz',\n",
    "    'No Of Other Card Withdrawals': 'withdrawals_other',\n",
    "    'Total amount Withdrawn': 'amount_total',\n",
    "    'Amount withdrawn XYZ Card': 'amount_xyz',\n",
    "    'Amount withdrawn Other Card': 'amount_other',\n",
    "    'Weekday': 'weekday',\n",
    "    'Festival Religion': 'festival',\n",
    "    'Working Day': 'working_day'\n",
    "}).to_csv('./data_clean.csv', index=False)"
   ]
  }
 ],
 "metadata": {
  "kernelspec": {
   "display_name": "Python 3",
   "language": "python",
   "name": "python3"
  },
  "language_info": {
   "codemirror_mode": {
    "name": "ipython",
    "version": 3
   },
   "file_extension": ".py",
   "mimetype": "text/x-python",
   "name": "python",
   "nbconvert_exporter": "python",
   "pygments_lexer": "ipython3",
   "version": "3.6.5"
  }
 },
 "nbformat": 4,
 "nbformat_minor": 2
}
